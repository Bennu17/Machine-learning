{
 "cells": [
  {
   "attachments": {},
   "cell_type": "markdown",
   "metadata": {},
   "source": [
    "# Customer Segmentation\n"
   ]
  },
  {
   "cell_type": "code",
   "execution_count": null,
   "metadata": {},
   "outputs": [],
   "source": [
    "import pandas as pd"
   ]
  },
  {
   "cell_type": "code",
   "execution_count": null,
   "metadata": {},
   "outputs": [],
   "source": [
    "# loading the data\n",
    "df  = pd.read_csv(\"data.csv\")\n",
    "df"
   ]
  },
  {
   "cell_type": "code",
   "execution_count": null,
   "metadata": {},
   "outputs": [],
   "source": [
    "# Drop the null values\n",
    "df = df.dropna()\n",
    "df"
   ]
  },
  {
   "cell_type": "code",
   "execution_count": null,
   "metadata": {},
   "outputs": [],
   "source": [
    "labs = ['low','medium','high']\n",
    "df['AnnualIncomeRange'] = pd.cut(df[' AnnualIncome'],bins=3,labels=labs)\n",
    "df\n",
    "\n",
    "range_counts = list(df['AnnualIncomeRange'].value_counts())\n",
    "range_counts"
   ]
  },
  {
   "cell_type": "code",
   "execution_count": null,
   "metadata": {},
   "outputs": [],
   "source": [
    "import matplotlib.pyplot as plt\n",
    "color = ['blue', 'green', 'orange']\n",
    "plt.bar(labs,range_counts,color = color)\n",
    "plt.title(\"Based on Annual Income of the Customer\")\n",
    "plt.show()"
   ]
  },
  {
   "cell_type": "code",
   "execution_count": null,
   "metadata": {},
   "outputs": [],
   "source": [
    "labs = ['low','medium','high']\n",
    "df['SpendingScoreRange'] = pd.cut(df[' SpendingScore'],bins=3,labels=labs)\n",
    "df\n",
    "\n",
    "range_counts = list(df['SpendingScoreRange'].value_counts())\n",
    "range_counts"
   ]
  },
  {
   "cell_type": "code",
   "execution_count": null,
   "metadata": {},
   "outputs": [],
   "source": [
    "color = ['blue', 'green', 'orange']\n",
    "plt.bar(labs,range_counts,color = color)\n",
    "plt.title(\"Based on Spending Score of the Customer\")\n",
    "plt.show()"
   ]
  },
  {
   "cell_type": "code",
   "execution_count": null,
   "metadata": {},
   "outputs": [],
   "source": [
    "labs = ['teen','adult','elders']\n",
    "df['AgeRange'] = pd.cut(df[' Age'],bins=3,labels=labs)\n",
    "\n",
    "range_counts = list(df['AgeRange'].value_counts())\n",
    "df"
   ]
  },
  {
   "cell_type": "code",
   "execution_count": null,
   "metadata": {},
   "outputs": [],
   "source": [
    "plt.bar(labs,range_counts)\n",
    "plt.title(\"Based on Spending Score of the Customer\")\n",
    "plt.show()"
   ]
  }
 ],
 "metadata": {
  "kernelspec": {
   "display_name": "Python 3",
   "language": "python",
   "name": "python3"
  },
  "language_info": {
   "codemirror_mode": {
    "name": "ipython",
    "version": 3
   },
   "file_extension": ".py",
   "mimetype": "text/x-python",
   "name": "python",
   "nbconvert_exporter": "python",
   "pygments_lexer": "ipython3",
   "version": "3.11.2"
  },
  "orig_nbformat": 4
 },
 "nbformat": 4,
 "nbformat_minor": 2
}
