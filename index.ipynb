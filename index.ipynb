{
 "cells": [
  {
   "attachments": {},
   "cell_type": "markdown",
   "metadata": {},
   "source": [
    "# Project 1 House Price Prediction Model"
   ]
  },
  {
   "cell_type": "code",
   "execution_count": 19,
   "metadata": {},
   "outputs": [],
   "source": [
    "# Importing the libraries\n",
    "\n",
    "import pandas as pd\n",
    "from sklearn.ensemble import RandomForestClassifier\n",
    "\n",
    "pd.set_option(\"display.max_columns\",None)\n",
    "pd.set_option(\"display.max_rows\",None)\n",
    "\n",
    "\n",
    "\n",
    "# Importing the training data\n",
    "variables = [\n",
    "    'OverallQual',\n",
    "    'YearBuilt',\n",
    "    'YearRemodAdd',\n",
    "    'TotalBsmtSF',\n",
    "    '1stFlrSF',\n",
    "    '2ndFlrSF',\n",
    "    'GrLivArea',\n",
    "    'FullBath',\n",
    "    'HalfBath',\n",
    "    'BedroomAbvGr',\n",
    "    'KitchenAbvGr',\n",
    "    'TotRmsAbvGrd',\n",
    "    'Fireplaces',\n",
    "    'GarageCars',\n",
    "    'GarageArea',\n",
    "    'WoodDeckSF',\n",
    "    'OpenPorchSF',\n",
    "    'EnclosedPorch',\n",
    "    'ScreenPorch',\n",
    "    'PoolArea',\n",
    "    'MiscVal',\n",
    "    'MoSold',\n",
    "    'YrSold',\n",
    "    'LotFrontage',\n",
    "    'LotArea',\n",
    "]\n",
    "df = pd.read_csv(\"train.csv\")\n",
    "avg = df['LotFrontage'].median()\n",
    "df = df.fillna(avg)\n",
    "target = df['SalePrice']\n",
    "features = df.loc[:,variables]\n"
   ]
  },
  {
   "cell_type": "code",
   "execution_count": 20,
   "metadata": {},
   "outputs": [
    {
     "data": {
      "text/plain": [
       "0.9993150684931507"
      ]
     },
     "execution_count": 20,
     "metadata": {},
     "output_type": "execute_result"
    }
   ],
   "source": [
    "model = RandomForestClassifier(n_estimators=31)\n",
    "model.fit(features, target)\n",
    "test_df = pd.read_csv(\"test.csv\")\n",
    "test_target = df['SalePrice']\n",
    "test_features = df.loc[:,variables]\n",
    "model.score(test_features, test_target)"
   ]
  },
  {
   "cell_type": "code",
   "execution_count": 21,
   "metadata": {},
   "outputs": [
    {
     "name": "stderr",
     "output_type": "stream",
     "text": [
      "c:\\Users\\Akhileswar\\AppData\\Local\\Programs\\Python\\Python311\\Lib\\site-packages\\sklearn\\base.py:439: UserWarning: X does not have valid feature names, but RandomForestClassifier was fitted with feature names\n",
      "  warnings.warn(\n"
     ]
    },
    {
     "data": {
      "text/plain": [
       "array([129000], dtype=int64)"
      ]
     },
     "execution_count": 21,
     "metadata": {},
     "output_type": "execute_result"
    }
   ],
   "source": [
    "values = [\n",
    "    5,  # OverallQual\n",
    "    1961,  # YearBuilt\n",
    "    1961,  # YearRemodAdd\n",
    "    882,  # TotalBsmtSF\n",
    "    896,  # 1stFlrSF\n",
    "    0,  # 2ndFlrSF\n",
    "    896,  # GrLivArea\n",
    "    1,  # FullBath\n",
    "    0,  # HalfBath\n",
    "    2,  # BedroomAbvGr\n",
    "    1,  # KitchenAbvGr\n",
    "    5,  # TotRmsAbvGrd\n",
    "    0,  # Fireplaces\n",
    "    1,  # GarageCars\n",
    "    730,  # GarageArea\n",
    "    140,  # WoodDeckSF\n",
    "    0,  # OpenPorchSF\n",
    "    0,  # EnclosedPorch\n",
    "    120,  # ScreenPorch\n",
    "    0,  # PoolArea\n",
    "    0,  # MiscVal\n",
    "    6,  # MoSold\n",
    "    2010,  # YrSold\n",
    "    80,  # LotFrontage\n",
    "    11622,  # LotArea\n",
    "]\n",
    "\n",
    "\n",
    "prediction = model.predict([values])\n",
    "prediction"
   ]
  }
 ],
 "metadata": {
  "kernelspec": {
   "display_name": "Python 3",
   "language": "python",
   "name": "python3"
  },
  "language_info": {
   "codemirror_mode": {
    "name": "ipython",
    "version": 3
   },
   "file_extension": ".py",
   "mimetype": "text/x-python",
   "name": "python",
   "nbconvert_exporter": "python",
   "pygments_lexer": "ipython3",
   "version": "3.11.2"
  },
  "orig_nbformat": 4
 },
 "nbformat": 4,
 "nbformat_minor": 2
}
